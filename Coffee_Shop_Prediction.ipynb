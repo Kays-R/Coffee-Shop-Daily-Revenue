{
 "cells": [
  {
   "cell_type": "markdown",
   "id": "80be7bec-2434-4acc-836d-9538d5703438",
   "metadata": {},
   "source": [
    "## Coffee Shop Prediction"
   ]
  },
  {
   "cell_type": "raw",
   "id": "2f4e765f-2213-4f13-bddd-5ff4cbb21c39",
   "metadata": {},
   "source": [
    "- This project is to practice techniques of Linear Regression learnt before.\n",
    "- The main point is to create a prediction model with an accuracy of over 75% (Minimum of 75%, higher is better)\n",
    "- The project will help understand the relationship between customer behavior, operational decisions, and revenue generation in the food and beverage industry."
   ]
  },
  {
   "cell_type": "code",
   "execution_count": null,
   "id": "08192b08-0d8b-4177-bd98-27702f140663",
   "metadata": {},
   "outputs": [],
   "source": []
  },
  {
   "cell_type": "markdown",
   "id": "4e6c2b06-849b-4d97-ac4a-a00e6b9722b3",
   "metadata": {},
   "source": [
    "### Import required libraries"
   ]
  },
  {
   "cell_type": "code",
   "execution_count": 1,
   "id": "11339aee-8f58-4281-95b8-8bcf6054112d",
   "metadata": {},
   "outputs": [],
   "source": [
    "import numpy as np\n",
    "import pandas as pd\n",
    "import seaborn as sns\n",
    "import matplotlib.pyplot as plt\n",
    "from sklearn.model_selection import train_test_split\n",
    "from sklearn.linear_model import LinearRegression\n",
    "from sklearn.preprocessing import StandardScaler\n",
    "from sklearn.metrics import mean_squared_error, mean_absolute_error, r2_score"
   ]
  },
  {
   "cell_type": "code",
   "execution_count": null,
   "id": "bb478a5e-a31f-417b-a07c-a99ffac58f7e",
   "metadata": {},
   "outputs": [],
   "source": [
    "df = pd.read_csv(r"
   ]
  },
  {
   "cell_type": "code",
   "execution_count": null,
   "id": "364508f8-0955-4476-a702-126d4967d9a7",
   "metadata": {},
   "outputs": [],
   "source": []
  },
  {
   "cell_type": "code",
   "execution_count": null,
   "id": "f8d9c43e-98f3-4642-b65a-cc56593e2ab4",
   "metadata": {},
   "outputs": [],
   "source": []
  },
  {
   "cell_type": "code",
   "execution_count": null,
   "id": "0b4a6817-cecd-4c16-8d38-dd42877981f8",
   "metadata": {},
   "outputs": [],
   "source": []
  },
  {
   "cell_type": "code",
   "execution_count": null,
   "id": "6f5f5201-a4fe-47eb-af59-2ca769220022",
   "metadata": {},
   "outputs": [],
   "source": []
  },
  {
   "cell_type": "code",
   "execution_count": null,
   "id": "bbf5d022-17a5-431f-9d3f-390f7e262847",
   "metadata": {},
   "outputs": [],
   "source": []
  }
 ],
 "metadata": {
  "kernelspec": {
   "display_name": "Python 3 (ipykernel)",
   "language": "python",
   "name": "python3"
  },
  "language_info": {
   "codemirror_mode": {
    "name": "ipython",
    "version": 3
   },
   "file_extension": ".py",
   "mimetype": "text/x-python",
   "name": "python",
   "nbconvert_exporter": "python",
   "pygments_lexer": "ipython3",
   "version": "3.12.4"
  }
 },
 "nbformat": 4,
 "nbformat_minor": 5
}
